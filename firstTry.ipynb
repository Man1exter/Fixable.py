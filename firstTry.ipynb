{
 "cells": [
  {
   "cell_type": "code",
   "execution_count": 21,
   "id": "9b5b6661-4c75-4a3f-8df4-ef8edc886e10",
   "metadata": {},
   "outputs": [],
   "source": [
    "import pandas as pd\n",
    "from pandas import *"
   ]
  },
  {
   "cell_type": "code",
   "execution_count": 22,
   "id": "65f06449-ebc9-4c51-8818-3c7fb69266b2",
   "metadata": {},
   "outputs": [],
   "source": [
    "# series trick with the module\n",
    "a = pd.Series([1,5,10,44,11])"
   ]
  },
  {
   "cell_type": "code",
   "execution_count": 23,
   "id": "85f10c4e-80f2-4301-b2a0-890186a2adb3",
   "metadata": {},
   "outputs": [
    {
     "output_type": "execute_result",
     "data": {
      "text/plain": [
       "0     10\n",
       "1     50\n",
       "2    100\n",
       "3    440\n",
       "4    110\n",
       "dtype: int64"
      ]
     },
     "metadata": {},
     "execution_count": 23
    }
   ],
   "source": [
    "# after add calc of sum\n",
    "a * 10"
   ]
  },
  {
   "cell_type": "code",
   "execution_count": 24,
   "id": "e33bb518-bb0e-40e6-922c-abd0b3253e6d",
   "metadata": {},
   "outputs": [
    {
     "output_type": "execute_result",
     "data": {
      "text/plain": [
       "0     1\n",
       "1     5\n",
       "2    10\n",
       "3    44\n",
       "4    11\n",
       "dtype: int64"
      ]
     },
     "metadata": {},
     "execution_count": 24
    }
   ],
   "source": [
    "# describe situation graphicaly\n",
    "a.abs()"
   ]
  },
  {
   "cell_type": "code",
   "execution_count": 25,
   "id": "15fa2c7b-3f70-4f30-94d8-0580c27f3d43",
   "metadata": {},
   "outputs": [],
   "source": [
    "# DataFrames here with space .."
   ]
  },
  {
   "cell_type": "code",
   "execution_count": null,
   "id": "cd14cec0-5350-4a94-a7ca-11bc61e44c0e",
   "metadata": {},
   "outputs": [],
   "source": []
  },
  {
   "cell_type": "code",
   "execution_count": null,
   "id": "a3e6d03e-8aee-49f7-bda0-0f770aea2f89",
   "metadata": {},
   "outputs": [],
   "source": []
  },
  {
   "cell_type": "code",
   "execution_count": null,
   "id": "655e34fd-9c09-4c91-8b1d-9c120701bc68",
   "metadata": {},
   "outputs": [],
   "source": []
  },
  {
   "cell_type": "code",
   "execution_count": null,
   "id": "76f1ffb4-8381-4f78-be40-71a1f54f76fe",
   "metadata": {},
   "outputs": [],
   "source": []
  }
 ],
 "metadata": {
  "kernelspec": {
   "name": "python3",
   "display_name": "Python 3.9.1 64-bit"
  },
  "language_info": {
   "codemirror_mode": {
    "name": "ipython",
    "version": 3
   },
   "file_extension": ".py",
   "mimetype": "text/x-python",
   "name": "python",
   "nbconvert_exporter": "python",
   "pygments_lexer": "ipython3",
   "version": "3.9.1"
  },
  "interpreter": {
   "hash": "4be195a508816264d39f66ff36d1c96a6896eccfac738edfbf690fedd7b96ef5"
  }
 },
 "nbformat": 4,
 "nbformat_minor": 5
}