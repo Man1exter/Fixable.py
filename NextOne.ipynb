{
 "cells": [
  {
   "cell_type": "code",
   "execution_count": 8,
   "id": "6afe1c05-a7e7-46bf-97fc-e031026632a4",
   "metadata": {},
   "outputs": [],
   "source": [
    "import numpy as np\n",
    "import pandas as pd"
   ]
  },
  {
   "cell_type": "code",
   "execution_count": 9,
   "id": "7ceec55f-693b-42e6-aad2-7e2acae119c9",
   "metadata": {},
   "outputs": [],
   "source": [
    "data = [51,46,19,20]\n",
    "labels_name = [\"Marvn\",\"Ann\",\"Jone\",\"Criss\"]"
   ]
  },
  {
   "cell_type": "code",
   "execution_count": 10,
   "id": "d53b754d-f432-451f-93ff-ec19615191db",
   "metadata": {},
   "outputs": [
    {
     "data": {
      "text/plain": [
       "Marvn    51\n",
       "Ann      46\n",
       "Jone     19\n",
       "Criss    20\n",
       "dtype: int64"
      ]
     },
     "execution_count": 10,
     "metadata": {},
     "output_type": "execute_result"
    }
   ],
   "source": [
    "my_series = pd.Series(data,labels_name)\n",
    "my_series # all in one "
   ]
  },
  {
   "cell_type": "code",
   "execution_count": 11,
   "id": "62d1276c-73a6-40f4-82ef-544da5cf58f2",
   "metadata": {},
   "outputs": [
    {
     "data": {
      "text/plain": [
       "0    Marvn\n",
       "1      Ann\n",
       "2     Jone\n",
       "3    Criss\n",
       "dtype: object"
      ]
     },
     "execution_count": 11,
     "metadata": {},
     "output_type": "execute_result"
    }
   ],
   "source": [
    "my_series = pd.Series(labels_name)\n",
    "my_series # 0 . 1 . 2 . 3 names"
   ]
  },
  {
   "cell_type": "code",
   "execution_count": 12,
   "id": "cc42b5bb-10c9-43ab-b1c2-ac38f9b0c461",
   "metadata": {},
   "outputs": [
    {
     "data": {
      "text/plain": [
       "0    51\n",
       "1    46\n",
       "2    19\n",
       "3    20\n",
       "dtype: int64"
      ]
     },
     "execution_count": 12,
     "metadata": {},
     "output_type": "execute_result"
    }
   ],
   "source": [
    "my_series = pd.Series(data)\n",
    "my_series # 0 . 1 . 2 . 3 data"
   ]
  },
  {
   "cell_type": "code",
   "execution_count": null,
   "id": "92e35bdb-036f-43ba-932a-8cdd692892c0",
   "metadata": {},
   "outputs": [],
   "source": []
  }
 ],
 "metadata": {
  "kernelspec": {
   "display_name": "Python 3 (ipykernel)",
   "language": "python",
   "name": "python3"
  },
  "language_info": {
   "codemirror_mode": {
    "name": "ipython",
    "version": 3
   },
   "file_extension": ".py",
   "mimetype": "text/x-python",
   "name": "python",
   "nbconvert_exporter": "python",
   "pygments_lexer": "ipython3",
   "version": "3.9.1"
  }
 },
 "nbformat": 4,
 "nbformat_minor": 5
}
